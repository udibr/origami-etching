{
 "cells": [
  {
   "cell_type": "code",
   "execution_count": 261,
   "id": "9463a104",
   "metadata": {},
   "outputs": [],
   "source": [
    "import numpy as np\n",
    "import cv2\n",
    "import math\n",
    "from matplotlib import pyplot as plt\n",
    "from pathlib import Path"
   ]
  },
  {
   "cell_type": "code",
   "execution_count": 244,
   "id": "fd299f93",
   "metadata": {},
   "outputs": [],
   "source": [
    "fn = \"Flames cut out-15\""
   ]
  },
  {
   "cell_type": "code",
   "execution_count": 267,
   "id": "6da19b7c",
   "metadata": {},
   "outputs": [
    {
     "data": {
      "text/plain": [
       "1"
      ]
     },
     "execution_count": 267,
     "metadata": {},
     "output_type": "execute_result"
    }
   ],
   "source": [
    "#pip install svg.path\n",
    "from svg.path import parse_path\n",
    "from xml.dom.minidom import parse\n",
    "\n",
    "# Parse the SVG file\n",
    "dom = parse(str(Path.home() / \"Downloads\" / fn) + \".svg\")\n",
    "\n",
    "# Get the path data\n",
    "path_strings = [path.getAttribute('d') for path \n",
    "                in dom.getElementsByTagName('path')]\n",
    "\n",
    "# Parse the path data into a list of Path objects\n",
    "paths = [parse_path(ps) for ps in path_strings]\n",
    "len(paths)"
   ]
  },
  {
   "cell_type": "code",
   "execution_count": 268,
   "id": "8fb3a7f4",
   "metadata": {},
   "outputs": [
    {
     "data": {
      "text/plain": [
       "(1.9968974165378848, 2.0028698997293852, 530.7984169770227, 560.9700000000001)"
      ]
     },
     "execution_count": 268,
     "metadata": {},
     "output_type": "execute_result"
    }
   ],
   "source": [
    "# find boundingbox of entire shape\n",
    "maxy = maxx = -1e8\n",
    "miny = minx = 1e8\n",
    "\n",
    "for path in paths:\n",
    "    x0,y0,x1,y1 = path.boundingbox()\n",
    "\n",
    "    if x0 < minx:\n",
    "        minx = x0\n",
    "    if x1 < minx:\n",
    "        minx = x1\n",
    "    if y0 < miny:\n",
    "        miny = y0\n",
    "    if y1 < miny:\n",
    "        miny = y1\n",
    "    if x0 > maxx:\n",
    "        maxx = x0\n",
    "    if x1 > maxx:\n",
    "        maxx = x1\n",
    "    if y0 > maxy:\n",
    "        maxy = y0\n",
    "    if y1 > maxy:\n",
    "        maxy = y1\n",
    "minx,miny,maxx,maxy"
   ]
  },
  {
   "cell_type": "code",
   "execution_count": 272,
   "id": "51edbd5e",
   "metadata": {},
   "outputs": [
    {
     "data": {
      "text/plain": [
       "svg.path.path.Path"
      ]
     },
     "execution_count": 272,
     "metadata": {},
     "output_type": "execute_result"
    }
   ],
   "source": [
    "type(paths[0])"
   ]
  },
  {
   "cell_type": "code",
   "execution_count": 269,
   "id": "631dcedb",
   "metadata": {},
   "outputs": [
    {
     "data": {
      "text/plain": [
       "880"
      ]
     },
     "execution_count": 269,
     "metadata": {},
     "output_type": "execute_result"
    }
   ],
   "source": [
    "W=H=600\n",
    "Nsamples = 20 # number of sampling points along each path including start and end.\n",
    "segments=[]\n",
    "for path in paths:\n",
    "    for p in path:\n",
    "        x1,y1 = p.start.real,p.start.imag\n",
    "        for i in range(Nsamples):\n",
    "            x0,y0 = x1,y1\n",
    "            pp = p.point((i+1)/Nsamples)\n",
    "            x1,y1 = pp.real,pp.imag\n",
    "#             segments.append((x0,y0,x1,y1,1))\n",
    "            segments.append((W*(x0-minx)/(maxx-minx),H*(y0-miny)/(maxy-miny),\n",
    "                             W*(x1-minx)/(maxx-minx),H*(y1-miny)/(maxy-miny),\n",
    "                             1))\n",
    "len(segments)"
   ]
  },
  {
   "cell_type": "code",
   "execution_count": 270,
   "id": "09f345e2",
   "metadata": {},
   "outputs": [],
   "source": [
    "# plot segments in an output image, using their code.\n",
    "def plot(segments,output):\n",
    "    c=(0,0,0)\n",
    "\n",
    "    for (x1,y1,x2,y2,code) in segments:\n",
    "        if code == 0:\n",
    "            w = 4\n",
    "            dash = 0\n",
    "        elif code ==1:\n",
    "            w = 1\n",
    "            dash = 0\n",
    "        else:\n",
    "            w = 1\n",
    "            dashblack = 5\n",
    "            dashwhite = 5\n",
    "            dash = dashblack + dashwhite\n",
    "        if x1 > x2:\n",
    "            x1,x2 = x2,x1\n",
    "            y1,y2 = y2,y1\n",
    "        if dash:\n",
    "            l = slen((x1,y1,x2,y2,code))\n",
    "            n = l/dash\n",
    "            dx = (x2-x1)/n\n",
    "            ddx = dx * dashblack/dash\n",
    "            dy = (y2-y1)/n\n",
    "            ddy = dy * dashblack/dash\n",
    "            n = int(n)+1\n",
    "            for i in range(n):\n",
    "                xx1 = int(x1 + dx * i + 0.5)\n",
    "                xx2 = int(x1 + dx * i + ddx + 0.5)\n",
    "                yy1 = int(y1 + dy * i + 0.5)\n",
    "                yy2 = int(y1 + dy * i + ddy + 0.5)                    \n",
    "                output = cv2.line(output, (xx1, yy1), (xx2, yy2), c, w)\n",
    "        else:\n",
    "            output = cv2.line(output, (int(x1+0.5), int(y1+0.5)), (int(x2+0.5), int(y2+0.5)), c, w)\n",
    "    return output"
   ]
  },
  {
   "cell_type": "code",
   "execution_count": 271,
   "id": "8c34ee7f",
   "metadata": {},
   "outputs": [
    {
     "data": {
      "text/plain": [
       "<matplotlib.image.AxesImage at 0x7ff4310126d0>"
      ]
     },
     "execution_count": 271,
     "metadata": {},
     "output_type": "execute_result"
    },
    {
     "data": {
      "image/png": "[encoded data removed]",
      "text/plain": [
       "<Figure size 640x480 with 1 Axes>"
      ]
     },
     "metadata": {},
     "output_type": "display_data"
    }
   ],
   "source": [
    "output = np.ones((W,H), np.uint8)*255\n",
    "output = plot(segments,output)\n",
    "f, ax = plt.subplots(1,1)\n",
    "ax.imshow(output)"
   ]
  },
  {
   "cell_type": "code",
   "execution_count": 250,
   "id": "ddb20260",
   "metadata": {},
   "outputs": [],
   "source": [
    "def slen(s): # segment length\n",
    "    (x0,y0,x1,y1,c) = s\n",
    "    return np.sqrt((x1-x0)**2 + (y1-y0)**2)\n",
    "\n",
    "def plot_len(segments,x=0,y=0):\n",
    "    l = 0.\n",
    "    for (x0,y0,x1,y1,c) in segments:\n",
    "        l += np.sqrt((x-x0)**2 + (y-y0)**2)\n",
    "        l += slen((x0,y0,x1,y1,c))\n",
    "        x = x1\n",
    "        y = y1\n",
    "    return l"
   ]
  },
  {
   "cell_type": "code",
   "execution_count": 251,
   "id": "a937e72e",
   "metadata": {},
   "outputs": [],
   "source": [
    "segments = [s for s in segments if slen(s) > 0]"
   ]
  },
  {
   "cell_type": "code",
   "execution_count": 252,
   "id": "11d009f3",
   "metadata": {},
   "outputs": [
    {
     "data": {
      "text/plain": [
       "4843.09205931992"
      ]
     },
     "execution_count": 252,
     "metadata": {},
     "output_type": "execute_result"
    }
   ],
   "source": [
    "plot_len(segments)"
   ]
  },
  {
   "cell_type": "code",
   "execution_count": 253,
   "id": "c5866e8a",
   "metadata": {},
   "outputs": [],
   "source": [
    "# paper origin and dimension of pattern in mm\n",
    "paper_w0 = 0\n",
    "paper_h0 = 0\n",
    "paper_size = 200\n",
    "\n",
    "laser_power = 999"
   ]
  },
  {
   "cell_type": "code",
   "execution_count": 254,
   "id": "9a5b285d",
   "metadata": {},
   "outputs": [],
   "source": [
    "def seg2gcode(f,segments,shape,\n",
    "              w0=paper_w0,h0=paper_h0,w=paper_size,h=paper_size, # origin and dimension of pattern in mm. fit to paper size\n",
    "              laser_power = laser_power, # laser power for different codes. tune to paper thickness and color\n",
    "             ):\n",
    "    dw = w/shape[0]\n",
    "    dh = h/shape[1]\n",
    "    \n",
    "    for (x1,y1,x2,y2,code) in segments:        \n",
    "        l = slen((x1,y1,x2,y2,code)) # line length\n",
    "       \n",
    "        f.write(f\"G0X{(x1*dw + w0):.3f}Y{(y1*dh + h0):.3f}\\n\")\n",
    "        f.write(f\"G1X{(x2*dw + w0):.3f}Y{(y2*dh + h0):.3f}S{laser_power}\\n\")"
   ]
  },
  {
   "cell_type": "code",
   "execution_count": 255,
   "id": "c5051cdb",
   "metadata": {},
   "outputs": [],
   "source": [
    "fnout = fn.replace(' ','_')+'.gcode'\n",
    "f = open(fnout,'w')"
   ]
  },
  {
   "cell_type": "code",
   "execution_count": 256,
   "id": "77be3c16",
   "metadata": {},
   "outputs": [
    {
     "data": {
      "text/plain": [
       "131"
      ]
     },
     "execution_count": 256,
     "metadata": {},
     "output_type": "execute_result"
    }
   ],
   "source": [
    "header = f\"\"\";Header Start\n",
    ";estimated_time(s): 60\n",
    ";MAXX: {paper_size}\n",
    ";MAXY: {paper_size}\n",
    ";MINX: 0\n",
    ";MINY: 0\n",
    ";Header End\n",
    "\n",
    "\n",
    "G92 X0 Y0 Z0\n",
    "G90\n",
    "G0 F3000\n",
    "G1 F1500\n",
    "M3 I\n",
    "\"\"\"\n",
    "f.write(header)"
   ]
  },
  {
   "cell_type": "code",
   "execution_count": 257,
   "id": "0bc1ace0",
   "metadata": {},
   "outputs": [],
   "source": [
    "seg2gcode(f,segments,(W,H))"
   ]
  },
  {
   "cell_type": "code",
   "execution_count": 258,
   "id": "b87f0f7a",
   "metadata": {},
   "outputs": [],
   "source": [
    "f.write(\"G1X0Y0S0\\n\")\n",
    "f.close()"
   ]
  },
  {
   "cell_type": "code",
   "execution_count": 259,
   "id": "0be9f7cc",
   "metadata": {},
   "outputs": [],
   "source": [
    "!cp {fnout} /Volumes/NO\\ NAME/{fnout}"
   ]
  }
 ],
 "metadata": {
  "kernelspec": {
   "display_name": "Python 3 (ipykernel)",
   "language": "python",
   "name": "python3"
  },
  "language_info": {
   "codemirror_mode": {
    "name": "ipython",
    "version": 3
   },
   "file_extension": ".py",
   "mimetype": "text/x-python",
   "name": "python",
   "nbconvert_exporter": "python",
   "pygments_lexer": "ipython3",
   "version": "3.8.13"
  }
 },
 "nbformat": 4,
 "nbformat_minor": 5
}
